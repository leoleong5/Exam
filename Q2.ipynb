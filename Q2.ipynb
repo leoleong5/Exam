{
  "nbformat": 4,
  "nbformat_minor": 0,
  "metadata": {
    "colab": {
      "provenance": [],
      "authorship_tag": "ABX9TyNGpwgx0K0ieItIGAS2Emm+",
      "include_colab_link": true
    },
    "kernelspec": {
      "name": "python3",
      "display_name": "Python 3"
    },
    "language_info": {
      "name": "python"
    }
  },
  "cells": [
    {
      "cell_type": "markdown",
      "metadata": {
        "id": "view-in-github",
        "colab_type": "text"
      },
      "source": [
        "<a href=\"https://colab.research.google.com/github/leoleong5/Exam/blob/main/Q2.ipynb\" target=\"_parent\"><img src=\"https://colab.research.google.com/assets/colab-badge.svg\" alt=\"Open In Colab\"/></a>"
      ]
    },
    {
      "cell_type": "markdown",
      "source": [
        "# Q2 Discusison/Working"
      ],
      "metadata": {
        "id": "Xao-SWj6WvqI"
      }
    },
    {
      "cell_type": "code",
      "execution_count": null,
      "metadata": {
        "id": "UTDfq_8_WsF_"
      },
      "outputs": [],
      "source": [
        "def promo(o):\n",
        "    p = None\n",
        "    if o > 50 and o < 100:\n",
        "        p = 5\n",
        "    elif o > 100:\n",
        "        p = 10\n",
        "    else:\n",
        "        p = 0\n",
        "    if o <= 0 or o is None:\n",
        "        raise ValueError(\"Order value not valid!\")\n",
        "    return o*(p/100)"
      ]
    },
    {
      "cell_type": "markdown",
      "source": [
        "### Corrected version"
      ],
      "metadata": {
        "id": "eiwfkafIbCLZ"
      }
    },
    {
      "cell_type": "code",
      "source": [
        "def promo(o):\n",
        "    if o <= 0 or o is None:\n",
        "        raise ValueError(\"Order value not valid!\")\n",
        "    p = None\n",
        "    if o >= 50 and o < 100:\n",
        "        p = 5\n",
        "    elif o >= 100:\n",
        "        p = 10\n",
        "    else:\n",
        "        p = 0\n",
        "    return o*(p/100)"
      ],
      "metadata": {
        "id": "nmh672zNaWAf"
      },
      "execution_count": null,
      "outputs": []
    },
    {
      "cell_type": "markdown",
      "source": [
        "### Testing version"
      ],
      "metadata": {
        "id": "CabG4NHybMBg"
      }
    },
    {
      "cell_type": "code",
      "source": [
        "def promo():\n",
        "    o = float(input(\"Value \"))\n",
        "    if o <= 0:\n",
        "        raise ValueError(\"Order value not valid!\")\n",
        "    p = None\n",
        "    if o >= 50 and o < 100:\n",
        "        p = 5\n",
        "    elif o >= 100:\n",
        "        p = 10\n",
        "    else:\n",
        "        p = 0\n",
        "    return o*(p/100)\n",
        "print(promo())"
      ],
      "metadata": {
        "colab": {
          "base_uri": "https://localhost:8080/"
        },
        "id": "YsamwYwQbH_J",
        "outputId": "0a919bd2-efa9-4233-d585-54feb4f05ca6"
      },
      "execution_count": null,
      "outputs": [
        {
          "output_type": "stream",
          "name": "stdout",
          "text": [
            "Value 50\n",
            "2.5\n"
          ]
        }
      ]
    },
    {
      "cell_type": "markdown",
      "source": [
        "Chat with ChatGPT4.0\n",
        "\n",
        "Human :\n",
        "How can i fix the code so when the value is invaild , it will print value is invaild and ask for enter again, but not the error pops out.\n",
        "There's the code i got now.\n",
        "```\n",
        "def promo():\n",
        "    o = float(input(\"Value \"))\n",
        "    if o <= 0:\n",
        "        raise ValueError(\"Order value not valid!\")\n",
        "    p = None\n",
        "    if o >= 50 and o < 100:\n",
        "        p = 5\n",
        "    elif o >= 100:\n",
        "        p = 10\n",
        "    else:\n",
        "        p = 0\n",
        "    return o*(p/100)\n",
        "print(promo())\n",
        "```\n",
        "\n",
        "Assistant\n",
        "\n",
        "If you want to keep the original structure of the code and only add re-prompting for the input when an invalid value is entered, you can use a while loop like this:\n",
        "\n",
        "```\n",
        "def promo():\n",
        "    while True:\n",
        "        try:\n",
        "            o = float(input(\"Value \"))\n",
        "            if o <= 0:\n",
        "                print(\"Order value should be greater than 0! Please try again.\")\n",
        "            else:\n",
        "                break\n",
        "        except ValueError:\n",
        "            print(\"Invalid input! Please enter a number.\")\n",
        "\n",
        "    p = None\n",
        "    if o >= 50 and o < 100:\n",
        "        p = 5\n",
        "    elif o >= 100:\n",
        "        p = 10\n",
        "    else:\n",
        "        p = 0\n",
        "\n",
        "    return o*(p/100)\n",
        "\n",
        "print(promo())\n",
        "```\n",
        "In this version, the function continuously asks for the order value until the user enters a valid number that is greater than 0. If an invalid value is entered, it prints an error message and asks again. If a valid value is entered, it breaks the loop and proceeds with the discount calculation."
      ],
      "metadata": {
        "id": "Qz9HRXbvmami"
      }
    },
    {
      "cell_type": "markdown",
      "source": [
        "# Here is my answer"
      ],
      "metadata": {
        "id": "TYkzc8I9XiFn"
      }
    },
    {
      "cell_type": "markdown",
      "source": [
        "### What is the error in the above code and why does it fail to calculate the promotional discount correctly?\n",
        "From the orginal code, the primary logical issue is that when processing with the value  50 or 100. It will comes out the error disccount to be 0.\n",
        "Also I have made some optimization upon the code. I have change the order to let the program check the value valid or not at first, so it will save some resource or time, if the value is not valid.\n",
        "Furthermore, ChatGPT helped me to creat a loop and print out the error, whats happen to the user and let the user enter the corrected value again."
      ],
      "metadata": {
        "id": "JZuVMFYjcAIr"
      }
    },
    {
      "cell_type": "markdown",
      "source": [
        "Just some simple move to correct the error.\n",
        "\n",
        "Adding a = to the code, to let both 50 and 100 including in the if and elif clause.\n",
        "\n",
        "Also, moving the checking validation code to the front, so it will check to validation first.\n",
        "\n",
        "Adding a loop in the code."
      ],
      "metadata": {
        "id": "MYBzaM2thEpO"
      }
    },
    {
      "cell_type": "markdown",
      "source": [
        "###Debugged Code"
      ],
      "metadata": {
        "id": "C8Pu1eClZ2a0"
      }
    },
    {
      "cell_type": "code",
      "source": [
        "### Code from ChatGPT4.0\n",
        "def promo():\n",
        "    while True:\n",
        "        try:\n",
        "            o = float(input(\"Value \"))\n",
        "            if o <= 0:\n",
        "                print(\"Order value should be greater than 0! Please try again.\")\n",
        "            else:\n",
        "                break\n",
        "        except ValueError:\n",
        "            print(\"Invalid input! Please enter a number.\")\n",
        "\n",
        "    p = None\n",
        "    if o >= 50 and o < 100:\n",
        "        p = 5\n",
        "    elif o >= 100:\n",
        "        p = 10\n",
        "    else:\n",
        "        p = 0\n",
        "\n",
        "    return o*(p/100)\n",
        "\n",
        "print(promo())"
      ],
      "metadata": {
        "id": "QIFsx6O_Z68a"
      },
      "execution_count": null,
      "outputs": []
    },
    {
      "cell_type": "markdown",
      "source": [
        "### Explanation of the code\n",
        "This function figures out the order-specific promotional discount. A 5% discount is granted if the order amount is between $50 and $100 (included). If the order value is 100 or above, 10% off is offered. If your order is for less than $50, there is no discount offered.\n",
        "\n",
        "The programme will output the discount for the user once the user enters the order value.\n",
        "\n",
        "The function leaves without calculating a discount if the user inputs a value that cannot be transformed into a number or if the order value is less than or equal to 0. It also outputs an error message if these conditions are fulfilled."
      ],
      "metadata": {
        "id": "O5Y-tt64h8Dg"
      }
    },
    {
      "cell_type": "markdown",
      "source": [
        "### Testing\n"
      ],
      "metadata": {
        "id": "DR4i_3Xcldd6"
      }
    },
    {
      "cell_type": "markdown",
      "source": [
        "### The value is 0 or invalid input"
      ],
      "metadata": {
        "id": "6qZY1_iEnwRQ"
      }
    },
    {
      "cell_type": "code",
      "source": [
        "### Code from ChatGPT\n",
        "def promo():\n",
        "    while True:\n",
        "        try:\n",
        "            o = float(input(\"Value \"))\n",
        "            if o <= 0:\n",
        "                print(\"Order value should be greater than 0! Please try again.\")\n",
        "            else:\n",
        "                break\n",
        "        except ValueError:\n",
        "            print(\"Invalid input! Please enter a number.\")\n",
        "\n",
        "    p = None\n",
        "    if o >= 50 and o < 100:\n",
        "        p = 5\n",
        "    elif o >= 100:\n",
        "        p = 10\n",
        "    else:\n",
        "        p = 0\n",
        "\n",
        "    return o*(p/100)\n",
        "\n",
        "print(promo())"
      ],
      "metadata": {
        "colab": {
          "base_uri": "https://localhost:8080/"
        },
        "id": "9caYO7JtmQzu",
        "outputId": "c89a4049-6f23-4666-fd0c-534aa0c1aa02"
      },
      "execution_count": null,
      "outputs": [
        {
          "output_type": "stream",
          "name": "stdout",
          "text": [
            "Value abc\n",
            "Invalid input! Please enter a number.\n",
            "Value 0\n",
            "Order value should be greater than 0! Please try again.\n",
            "Value 50\n",
            "2.5\n"
          ]
        }
      ]
    },
    {
      "cell_type": "markdown",
      "source": [
        "### Test with value is 50"
      ],
      "metadata": {
        "id": "FYObWQx0oTkI"
      }
    },
    {
      "cell_type": "code",
      "source": [
        "### Code from ChatGPT\n",
        "def promo():\n",
        "    while True:\n",
        "        try:\n",
        "            o = float(input(\"Value \"))\n",
        "            if o <= 0:\n",
        "                print(\"Order value should be greater than 0! Please try again.\")\n",
        "            else:\n",
        "                break\n",
        "        except ValueError:\n",
        "            print(\"Invalid input! Please enter a number.\")\n",
        "\n",
        "    p = None\n",
        "    if o >= 50 and o < 100:\n",
        "        p = 5\n",
        "    elif o >= 100:\n",
        "        p = 10\n",
        "    else:\n",
        "        p = 0\n",
        "\n",
        "    return o*(p/100)\n",
        "\n",
        "print(promo())"
      ],
      "metadata": {
        "colab": {
          "base_uri": "https://localhost:8080/"
        },
        "id": "wto0a8pboYQR",
        "outputId": "69edc37b-605d-421b-c18c-3ecf3385ee14"
      },
      "execution_count": null,
      "outputs": [
        {
          "output_type": "stream",
          "name": "stdout",
          "text": [
            "Value 50\n",
            "2.5\n"
          ]
        }
      ]
    }
  ]
}