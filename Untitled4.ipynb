{
  "nbformat": 4,
  "nbformat_minor": 0,
  "metadata": {
    "colab": {
      "provenance": [],
      "authorship_tag": "ABX9TyML1boRveRrMux8juRDR2sT",
      "include_colab_link": true
    },
    "kernelspec": {
      "name": "python3",
      "display_name": "Python 3"
    },
    "language_info": {
      "name": "python"
    }
  },
  "cells": [
    {
      "cell_type": "markdown",
      "metadata": {
        "id": "view-in-github",
        "colab_type": "text"
      },
      "source": [
        "<a href=\"https://colab.research.google.com/github/leoleong5/Exam/blob/main/Untitled4.ipynb\" target=\"_parent\"><img src=\"https://colab.research.google.com/assets/colab-badge.svg\" alt=\"Open In Colab\"/></a>"
      ]
    },
    {
      "cell_type": "code",
      "execution_count": null,
      "metadata": {
        "id": "G-rNZRM9Aex2"
      },
      "outputs": [],
      "source": [
        "def file_analysis():\n",
        "    filepath = input(\"Please enter the path to your text file: \")\n",
        "\n",
        "    try:\n",
        "        with open(filepath, 'r') as file:\n",
        "            text = file.read()\n",
        "    except FileNotFoundError:\n",
        "        print(\"File not found. Please try again.\")\n",
        "        return\n",
        "\n",
        "    lines = text.split('\\n')\n",
        "    words = text.split()\n",
        "    characters_with_spaces = len(text)\n",
        "    characters_without_spaces = len(text.replace(\" \", \"\"))\n",
        "\n",
        "    print(f\"Number of lines: {len(lines)}\")\n",
        "    print(f\"Total number of words: {len(words)}\")\n",
        "    print(f\"Total number of characters including whitespace: {characters_with_spaces}\")\n",
        "    print(f\"Total number of characters excluding whitespace: {characters_without_spaces}\")\n",
        "\n",
        "if __name__ == '__main__':\n",
        "    file_analysis()\n",
        "\n"
      ]
    }
  ]
}